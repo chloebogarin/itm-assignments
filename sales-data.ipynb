{
 "cells": [
  {
   "cell_type": "code",
   "execution_count": 2,
   "id": "352834b7",
   "metadata": {},
   "outputs": [],
   "source": [
    "import matplotlib.pyplot as plt\n",
    "import numpy as np\n",
    "import pandas as pd"
   ]
  },
  {
   "cell_type": "code",
   "execution_count": 3,
   "id": "a47b64c5",
   "metadata": {},
   "outputs": [],
   "source": [
    "invoice = pd.read_csv('fct_invoice.csv')\n",
    "customers = pd.read_json('dim_customer.json')\n",
    "invoice = invoice.sort_values(['customer_id'])\n",
    "customers = customers.sort_values(['id'])\n",
    "invoice['Sales'] = invoice['quantity']*invoice['price']"
   ]
  },
  {
   "cell_type": "code",
   "execution_count": 4,
   "id": "bfee0f7f",
   "metadata": {},
   "outputs": [
    {
     "data": {
      "text/html": [
       "<div>\n",
       "<style scoped>\n",
       "    .dataframe tbody tr th:only-of-type {\n",
       "        vertical-align: middle;\n",
       "    }\n",
       "\n",
       "    .dataframe tbody tr th {\n",
       "        vertical-align: top;\n",
       "    }\n",
       "\n",
       "    .dataframe thead th {\n",
       "        text-align: right;\n",
       "    }\n",
       "</style>\n",
       "<table border=\"1\" class=\"dataframe\">\n",
       "  <thead>\n",
       "    <tr style=\"text-align: right;\">\n",
       "      <th></th>\n",
       "      <th>invoice_no</th>\n",
       "      <th>customer_id</th>\n",
       "      <th>category</th>\n",
       "      <th>quantity</th>\n",
       "      <th>price</th>\n",
       "      <th>payment_method</th>\n",
       "      <th>invoice_date</th>\n",
       "      <th>shopping_mall</th>\n",
       "      <th>Sales</th>\n",
       "    </tr>\n",
       "  </thead>\n",
       "  <tbody>\n",
       "    <tr>\n",
       "      <th>79283</th>\n",
       "      <td>I150428</td>\n",
       "      <td>0</td>\n",
       "      <td>Clothing</td>\n",
       "      <td>3</td>\n",
       "      <td>900.24</td>\n",
       "      <td>Debit Card</td>\n",
       "      <td>9/7/2021</td>\n",
       "      <td>Kanyon</td>\n",
       "      <td>2700.72</td>\n",
       "    </tr>\n",
       "    <tr>\n",
       "      <th>25634</th>\n",
       "      <td>I201805</td>\n",
       "      <td>0</td>\n",
       "      <td>Shoes</td>\n",
       "      <td>5</td>\n",
       "      <td>3000.85</td>\n",
       "      <td>Credit Card</td>\n",
       "      <td>1/10/2021</td>\n",
       "      <td>Viaport Outlet</td>\n",
       "      <td>15004.25</td>\n",
       "    </tr>\n",
       "    <tr>\n",
       "      <th>25661</th>\n",
       "      <td>I263919</td>\n",
       "      <td>0</td>\n",
       "      <td>Clothing</td>\n",
       "      <td>4</td>\n",
       "      <td>1200.32</td>\n",
       "      <td>Cash</td>\n",
       "      <td>17/06/2021</td>\n",
       "      <td>Emaar Square Mall</td>\n",
       "      <td>4801.28</td>\n",
       "    </tr>\n",
       "    <tr>\n",
       "      <th>97458</th>\n",
       "      <td>I288045</td>\n",
       "      <td>0</td>\n",
       "      <td>Clothing</td>\n",
       "      <td>2</td>\n",
       "      <td>600.16</td>\n",
       "      <td>Cash</td>\n",
       "      <td>13/04/2021</td>\n",
       "      <td>Kanyon</td>\n",
       "      <td>1200.32</td>\n",
       "    </tr>\n",
       "    <tr>\n",
       "      <th>19074</th>\n",
       "      <td>I737235</td>\n",
       "      <td>0</td>\n",
       "      <td>Clothing</td>\n",
       "      <td>1</td>\n",
       "      <td>300.08</td>\n",
       "      <td>Cash</td>\n",
       "      <td>14/09/2021</td>\n",
       "      <td>Metropol AVM</td>\n",
       "      <td>300.08</td>\n",
       "    </tr>\n",
       "    <tr>\n",
       "      <th>...</th>\n",
       "      <td>...</td>\n",
       "      <td>...</td>\n",
       "      <td>...</td>\n",
       "      <td>...</td>\n",
       "      <td>...</td>\n",
       "      <td>...</td>\n",
       "      <td>...</td>\n",
       "      <td>...</td>\n",
       "      <td>...</td>\n",
       "    </tr>\n",
       "    <tr>\n",
       "      <th>40980</th>\n",
       "      <td>I216403</td>\n",
       "      <td>9428</td>\n",
       "      <td>Cosmetics</td>\n",
       "      <td>5</td>\n",
       "      <td>203.30</td>\n",
       "      <td>Debit Card</td>\n",
       "      <td>4/7/2021</td>\n",
       "      <td>Mall of Istanbul</td>\n",
       "      <td>1016.50</td>\n",
       "    </tr>\n",
       "    <tr>\n",
       "      <th>34924</th>\n",
       "      <td>I203211</td>\n",
       "      <td>9494</td>\n",
       "      <td>Cosmetics</td>\n",
       "      <td>1</td>\n",
       "      <td>40.66</td>\n",
       "      <td>Debit Card</td>\n",
       "      <td>9/7/2022</td>\n",
       "      <td>Metrocity</td>\n",
       "      <td>40.66</td>\n",
       "    </tr>\n",
       "    <tr>\n",
       "      <th>41741</th>\n",
       "      <td>I325731</td>\n",
       "      <td>10350</td>\n",
       "      <td>Cosmetics</td>\n",
       "      <td>2</td>\n",
       "      <td>81.32</td>\n",
       "      <td>Cash</td>\n",
       "      <td>7/4/2021</td>\n",
       "      <td>Cevahir AVM</td>\n",
       "      <td>162.64</td>\n",
       "    </tr>\n",
       "    <tr>\n",
       "      <th>64494</th>\n",
       "      <td>I478078</td>\n",
       "      <td>10587</td>\n",
       "      <td>Clothing</td>\n",
       "      <td>5</td>\n",
       "      <td>1500.40</td>\n",
       "      <td>Credit Card</td>\n",
       "      <td>20/10/2022</td>\n",
       "      <td>Metrocity</td>\n",
       "      <td>7502.00</td>\n",
       "    </tr>\n",
       "    <tr>\n",
       "      <th>51335</th>\n",
       "      <td>I270463</td>\n",
       "      <td>10934</td>\n",
       "      <td>Technology</td>\n",
       "      <td>5</td>\n",
       "      <td>5250.00</td>\n",
       "      <td>Credit Card</td>\n",
       "      <td>28/11/2022</td>\n",
       "      <td>Viaport Outlet</td>\n",
       "      <td>26250.00</td>\n",
       "    </tr>\n",
       "  </tbody>\n",
       "</table>\n",
       "<p>99457 rows × 9 columns</p>\n",
       "</div>"
      ],
      "text/plain": [
       "      invoice_no  customer_id    category  quantity    price payment_method  \\\n",
       "79283    I150428            0    Clothing         3   900.24     Debit Card   \n",
       "25634    I201805            0       Shoes         5  3000.85    Credit Card   \n",
       "25661    I263919            0    Clothing         4  1200.32           Cash   \n",
       "97458    I288045            0    Clothing         2   600.16           Cash   \n",
       "19074    I737235            0    Clothing         1   300.08           Cash   \n",
       "...          ...          ...         ...       ...      ...            ...   \n",
       "40980    I216403         9428   Cosmetics         5   203.30     Debit Card   \n",
       "34924    I203211         9494   Cosmetics         1    40.66     Debit Card   \n",
       "41741    I325731        10350   Cosmetics         2    81.32           Cash   \n",
       "64494    I478078        10587    Clothing         5  1500.40    Credit Card   \n",
       "51335    I270463        10934  Technology         5  5250.00    Credit Card   \n",
       "\n",
       "      invoice_date      shopping_mall     Sales  \n",
       "79283     9/7/2021             Kanyon   2700.72  \n",
       "25634    1/10/2021     Viaport Outlet  15004.25  \n",
       "25661   17/06/2021  Emaar Square Mall   4801.28  \n",
       "97458   13/04/2021             Kanyon   1200.32  \n",
       "19074   14/09/2021       Metropol AVM    300.08  \n",
       "...            ...                ...       ...  \n",
       "40980     4/7/2021   Mall of Istanbul   1016.50  \n",
       "34924     9/7/2022          Metrocity     40.66  \n",
       "41741     7/4/2021        Cevahir AVM    162.64  \n",
       "64494   20/10/2022          Metrocity   7502.00  \n",
       "51335   28/11/2022     Viaport Outlet  26250.00  \n",
       "\n",
       "[99457 rows x 9 columns]"
      ]
     },
     "execution_count": 4,
     "metadata": {},
     "output_type": "execute_result"
    }
   ],
   "source": [
    "invoice"
   ]
  },
  {
   "cell_type": "code",
   "execution_count": 5,
   "id": "55359ee0",
   "metadata": {},
   "outputs": [
    {
     "data": {
      "text/html": [
       "<div>\n",
       "<style scoped>\n",
       "    .dataframe tbody tr th:only-of-type {\n",
       "        vertical-align: middle;\n",
       "    }\n",
       "\n",
       "    .dataframe tbody tr th {\n",
       "        vertical-align: top;\n",
       "    }\n",
       "\n",
       "    .dataframe thead th {\n",
       "        text-align: right;\n",
       "    }\n",
       "</style>\n",
       "<table border=\"1\" class=\"dataframe\">\n",
       "  <thead>\n",
       "    <tr style=\"text-align: right;\">\n",
       "      <th></th>\n",
       "      <th>age</th>\n",
       "      <th>first_name</th>\n",
       "      <th>gender</th>\n",
       "      <th>id</th>\n",
       "      <th>last_name</th>\n",
       "    </tr>\n",
       "  </thead>\n",
       "  <tbody>\n",
       "    <tr>\n",
       "      <th>0</th>\n",
       "      <td>48.0</td>\n",
       "      <td>Nicholas</td>\n",
       "      <td>M</td>\n",
       "      <td>0</td>\n",
       "      <td>Flores</td>\n",
       "    </tr>\n",
       "    <tr>\n",
       "      <th>1</th>\n",
       "      <td>NaN</td>\n",
       "      <td>Jeffery</td>\n",
       "      <td>M</td>\n",
       "      <td>1</td>\n",
       "      <td>Rowe</td>\n",
       "    </tr>\n",
       "    <tr>\n",
       "      <th>2</th>\n",
       "      <td>57.0</td>\n",
       "      <td>Alexis</td>\n",
       "      <td>F</td>\n",
       "      <td>2</td>\n",
       "      <td>Benton</td>\n",
       "    </tr>\n",
       "    <tr>\n",
       "      <th>3</th>\n",
       "      <td>73.0</td>\n",
       "      <td>Amy</td>\n",
       "      <td>F</td>\n",
       "      <td>3</td>\n",
       "      <td>Johnson</td>\n",
       "    </tr>\n",
       "    <tr>\n",
       "      <th>4</th>\n",
       "      <td>20.0</td>\n",
       "      <td>David</td>\n",
       "      <td>M</td>\n",
       "      <td>4</td>\n",
       "      <td>Moore</td>\n",
       "    </tr>\n",
       "    <tr>\n",
       "      <th>...</th>\n",
       "      <td>...</td>\n",
       "      <td>...</td>\n",
       "      <td>...</td>\n",
       "      <td>...</td>\n",
       "      <td>...</td>\n",
       "    </tr>\n",
       "    <tr>\n",
       "      <th>5186</th>\n",
       "      <td>NaN</td>\n",
       "      <td>Arthur</td>\n",
       "      <td>M</td>\n",
       "      <td>9428</td>\n",
       "      <td>Harris</td>\n",
       "    </tr>\n",
       "    <tr>\n",
       "      <th>5187</th>\n",
       "      <td>NaN</td>\n",
       "      <td>David</td>\n",
       "      <td>M</td>\n",
       "      <td>9494</td>\n",
       "      <td>Roy</td>\n",
       "    </tr>\n",
       "    <tr>\n",
       "      <th>5188</th>\n",
       "      <td>85.0</td>\n",
       "      <td>Thomas</td>\n",
       "      <td>M</td>\n",
       "      <td>10350</td>\n",
       "      <td>Turner</td>\n",
       "    </tr>\n",
       "    <tr>\n",
       "      <th>5189</th>\n",
       "      <td>NaN</td>\n",
       "      <td>April</td>\n",
       "      <td>F</td>\n",
       "      <td>10587</td>\n",
       "      <td>Sanchez</td>\n",
       "    </tr>\n",
       "    <tr>\n",
       "      <th>5190</th>\n",
       "      <td>NaN</td>\n",
       "      <td>Andrew</td>\n",
       "      <td>M</td>\n",
       "      <td>10934</td>\n",
       "      <td>Compton</td>\n",
       "    </tr>\n",
       "  </tbody>\n",
       "</table>\n",
       "<p>5191 rows × 5 columns</p>\n",
       "</div>"
      ],
      "text/plain": [
       "       age first_name gender     id last_name\n",
       "0     48.0   Nicholas      M      0    Flores\n",
       "1      NaN    Jeffery      M      1      Rowe\n",
       "2     57.0     Alexis      F      2    Benton\n",
       "3     73.0        Amy      F      3   Johnson\n",
       "4     20.0      David      M      4     Moore\n",
       "...    ...        ...    ...    ...       ...\n",
       "5186   NaN     Arthur      M   9428    Harris\n",
       "5187   NaN      David      M   9494       Roy\n",
       "5188  85.0     Thomas      M  10350    Turner\n",
       "5189   NaN      April      F  10587   Sanchez\n",
       "5190   NaN     Andrew      M  10934   Compton\n",
       "\n",
       "[5191 rows x 5 columns]"
      ]
     },
     "execution_count": 5,
     "metadata": {},
     "output_type": "execute_result"
    }
   ],
   "source": [
    "customers"
   ]
  },
  {
   "cell_type": "markdown",
   "id": "3db6cbe5",
   "metadata": {},
   "source": [
    "## EASY"
   ]
  },
  {
   "cell_type": "markdown",
   "id": "919f5f18",
   "metadata": {},
   "source": [
    "1. How many unique customers are in the dataset?"
   ]
  },
  {
   "cell_type": "code",
   "execution_count": 6,
   "id": "e71bad4d",
   "metadata": {},
   "outputs": [
    {
     "data": {
      "text/plain": [
       "5191"
      ]
     },
     "execution_count": 6,
     "metadata": {},
     "output_type": "execute_result"
    }
   ],
   "source": [
    "uniqueusers = set((customers['id']))\n",
    "\n",
    "len(uniqueusers)"
   ]
  },
  {
   "cell_type": "markdown",
   "id": "ece15b52",
   "metadata": {},
   "source": [
    "2. What are the different categories of products available? How many unique categories are there?"
   ]
  },
  {
   "cell_type": "code",
   "execution_count": 7,
   "id": "6b1ece90",
   "metadata": {},
   "outputs": [
    {
     "data": {
      "text/plain": [
       "{'Books',\n",
       " 'Clothing',\n",
       " 'Cosmetics',\n",
       " 'Food & Beverage',\n",
       " 'Shoes',\n",
       " 'Souvenir',\n",
       " 'Technology',\n",
       " 'Toys'}"
      ]
     },
     "execution_count": 7,
     "metadata": {},
     "output_type": "execute_result"
    }
   ],
   "source": [
    "categories = set(invoice['category'])\n",
    "\n",
    "categories"
   ]
  },
  {
   "cell_type": "code",
   "execution_count": 8,
   "id": "1992b956",
   "metadata": {},
   "outputs": [
    {
     "data": {
      "text/plain": [
       "8"
      ]
     },
     "execution_count": 8,
     "metadata": {},
     "output_type": "execute_result"
    }
   ],
   "source": [
    "len(categories)"
   ]
  },
  {
   "cell_type": "markdown",
   "id": "5b49ea99",
   "metadata": {},
   "source": [
    "3. Which payment method is the most popular? How many times was it used?"
   ]
  },
  {
   "cell_type": "code",
   "execution_count": 9,
   "id": "6df776b6",
   "metadata": {},
   "outputs": [
    {
     "name": "stdout",
     "output_type": "stream",
     "text": [
      "Debit Card: 20079\n",
      "Credit Card: 34931\n",
      "Cash: 44447\n"
     ]
    }
   ],
   "source": [
    "Debit = 0\n",
    "Credit = 0\n",
    "Cash = 0\n",
    "error = 0\n",
    "for method in invoice['payment_method']:\n",
    "    if method == 'Debit Card':\n",
    "        Debit += 1\n",
    "    elif method == 'Credit Card':\n",
    "        Credit += 1\n",
    "    elif method == 'Cash':\n",
    "        Cash += 1\n",
    "    else:\n",
    "        error += 1\n",
    "print('Debit Card:',Debit)\n",
    "print('Credit Card:',Credit)\n",
    "print('Cash:',Cash)"
   ]
  },
  {
   "cell_type": "markdown",
   "id": "04677d1b",
   "metadata": {},
   "source": [
    "Cash"
   ]
  },
  {
   "cell_type": "markdown",
   "id": "daf57d79",
   "metadata": {},
   "source": [
    "## MEDIUM"
   ]
  },
  {
   "cell_type": "markdown",
   "id": "df6145bb",
   "metadata": {},
   "source": [
    "1. What are the three most popular categories, by total sales?"
   ]
  },
  {
   "cell_type": "code",
   "execution_count": 10,
   "id": "0b966e9c",
   "metadata": {},
   "outputs": [
    {
     "data": {
      "text/plain": [
       "category\n",
       "Clothing      1.139968e+08\n",
       "Shoes         6.655345e+07\n",
       "Technology    5.786235e+07\n",
       "Name: Sales, dtype: float64"
      ]
     },
     "execution_count": 10,
     "metadata": {},
     "output_type": "execute_result"
    }
   ],
   "source": [
    "salescategory = invoice.groupby('category')['Sales'].sum()\n",
    "salescategory.sort_values(ascending = False)\n",
    "salescategory.nlargest(3)"
   ]
  },
  {
   "cell_type": "markdown",
   "id": "08704cae",
   "metadata": {},
   "source": [
    "2. What are the total sales attributed to customers over the age of 45?"
   ]
  },
  {
   "cell_type": "code",
   "execution_count": 12,
   "id": "1b0f0bcd",
   "metadata": {},
   "outputs": [
    {
     "data": {
      "text/plain": [
       "82039768.15"
      ]
     },
     "execution_count": 12,
     "metadata": {},
     "output_type": "execute_result"
    }
   ],
   "source": [
    "merges = invoice.merge(customers, how='inner', left_on= 'customer_id',right_on = 'id')\n",
    "df = merges.loc[(merges['age'] > 45)]\n",
    "df['Sales'].sum()"
   ]
  },
  {
   "cell_type": "markdown",
   "id": "192c5012",
   "metadata": {},
   "source": [
    "3. How is the data distributed across different invoice dates? Are there any seasonal trends or patterns? (Use a graph for this.)"
   ]
  },
  {
   "cell_type": "code",
   "execution_count": 15,
   "id": "464faece",
   "metadata": {},
   "outputs": [
    {
     "data": {
      "image/png": "[encoded data removed]",
      "text/plain": [
       "<Figure size 640x480 with 1 Axes>"
      ]
     },
     "metadata": {},
     "output_type": "display_data"
    }
   ],
   "source": [
    "invoice['invoice_date'] = pd.to_datetime(invoice['invoice_date'], dayfirst=True)\n",
    "\n",
    "dates = invoice.groupby(invoice['invoice_date'].dt.to_period('M'))['Sales'].sum()\n",
    "dates.plot(kind='line')\n",
    "plt.xlabel('Invoice Date')\n",
    "plt.ylabel('Number of Invoices')\n",
    "plt.title('Distribution of Invoices over Time')\n",
    "plt.xticks(rotation=45)\n",
    "plt.show()"
   ]
  },
  {
   "cell_type": "markdown",
   "id": "a13c61a2",
   "metadata": {},
   "source": [
    "## HARD"
   ]
  },
  {
   "cell_type": "markdown",
   "id": "e26f43db",
   "metadata": {},
   "source": [
    "1. Create a pivot table showing the breakdown of sales across these dimensions, in this order: category, decade age range (e.g., 10-19, 20-29, and so forth"
   ]
  },
  {
   "cell_type": "code",
   "execution_count": 17,
   "id": "5b3a69e3",
   "metadata": {},
   "outputs": [
    {
     "data": {
      "text/html": [
       "<div>\n",
       "<style scoped>\n",
       "    .dataframe tbody tr th:only-of-type {\n",
       "        vertical-align: middle;\n",
       "    }\n",
       "\n",
       "    .dataframe tbody tr th {\n",
       "        vertical-align: top;\n",
       "    }\n",
       "\n",
       "    .dataframe thead th {\n",
       "        text-align: right;\n",
       "    }\n",
       "</style>\n",
       "<table border=\"1\" class=\"dataframe\">\n",
       "  <thead>\n",
       "    <tr style=\"text-align: right;\">\n",
       "      <th>age range</th>\n",
       "      <th>10-19</th>\n",
       "      <th>20-29</th>\n",
       "      <th>30-39</th>\n",
       "      <th>40-49</th>\n",
       "      <th>50-69</th>\n",
       "      <th>60-69</th>\n",
       "      <th>70-89</th>\n",
       "      <th>NaN</th>\n",
       "    </tr>\n",
       "    <tr>\n",
       "      <th>category</th>\n",
       "      <th></th>\n",
       "      <th></th>\n",
       "      <th></th>\n",
       "      <th></th>\n",
       "      <th></th>\n",
       "      <th></th>\n",
       "      <th></th>\n",
       "      <th></th>\n",
       "    </tr>\n",
       "  </thead>\n",
       "  <tbody>\n",
       "    <tr>\n",
       "      <th>Books</th>\n",
       "      <td>12801.75</td>\n",
       "      <td>93475.50</td>\n",
       "      <td>76386.30</td>\n",
       "      <td>79143.60</td>\n",
       "      <td>71159.55</td>\n",
       "      <td>72098.85</td>\n",
       "      <td>50691.90</td>\n",
       "      <td>378795.45</td>\n",
       "    </tr>\n",
       "    <tr>\n",
       "      <th>Clothing</th>\n",
       "      <td>1927413.84</td>\n",
       "      <td>12889036.16</td>\n",
       "      <td>10423278.80</td>\n",
       "      <td>10122298.56</td>\n",
       "      <td>9511035.60</td>\n",
       "      <td>9351993.20</td>\n",
       "      <td>7117297.44</td>\n",
       "      <td>52654437.44</td>\n",
       "    </tr>\n",
       "    <tr>\n",
       "      <th>Cosmetics</th>\n",
       "      <td>109619.36</td>\n",
       "      <td>752210.00</td>\n",
       "      <td>666336.08</td>\n",
       "      <td>608964.82</td>\n",
       "      <td>540005.46</td>\n",
       "      <td>568630.10</td>\n",
       "      <td>387977.72</td>\n",
       "      <td>3159119.36</td>\n",
       "    </tr>\n",
       "    <tr>\n",
       "      <th>Food &amp; Beverage</th>\n",
       "      <td>13582.31</td>\n",
       "      <td>91974.78</td>\n",
       "      <td>79616.29</td>\n",
       "      <td>79982.39</td>\n",
       "      <td>67372.86</td>\n",
       "      <td>70662.53</td>\n",
       "      <td>49585.63</td>\n",
       "      <td>396758.26</td>\n",
       "    </tr>\n",
       "    <tr>\n",
       "      <th>Shoes</th>\n",
       "      <td>993281.35</td>\n",
       "      <td>7676174.30</td>\n",
       "      <td>6598869.15</td>\n",
       "      <td>6445825.80</td>\n",
       "      <td>5523364.51</td>\n",
       "      <td>5234082.57</td>\n",
       "      <td>4214993.91</td>\n",
       "      <td>29866859.88</td>\n",
       "    </tr>\n",
       "    <tr>\n",
       "      <th>Souvenir</th>\n",
       "      <td>12375.15</td>\n",
       "      <td>67424.04</td>\n",
       "      <td>57711.60</td>\n",
       "      <td>60397.77</td>\n",
       "      <td>50333.43</td>\n",
       "      <td>47764.56</td>\n",
       "      <td>34955.40</td>\n",
       "      <td>304862.70</td>\n",
       "    </tr>\n",
       "    <tr>\n",
       "      <th>Technology</th>\n",
       "      <td>1129800.00</td>\n",
       "      <td>6067950.00</td>\n",
       "      <td>5728800.00</td>\n",
       "      <td>5451600.00</td>\n",
       "      <td>4046700.00</td>\n",
       "      <td>4856250.00</td>\n",
       "      <td>3276000.00</td>\n",
       "      <td>27305250.00</td>\n",
       "    </tr>\n",
       "    <tr>\n",
       "      <th>Toys</th>\n",
       "      <td>60426.24</td>\n",
       "      <td>473589.76</td>\n",
       "      <td>387824.64</td>\n",
       "      <td>352271.36</td>\n",
       "      <td>318474.24</td>\n",
       "      <td>325427.20</td>\n",
       "      <td>258012.16</td>\n",
       "      <td>1804400.64</td>\n",
       "    </tr>\n",
       "  </tbody>\n",
       "</table>\n",
       "</div>"
      ],
      "text/plain": [
       "age range             10-19        20-29        30-39        40-49  \\\n",
       "category                                                             \n",
       "Books              12801.75     93475.50     76386.30     79143.60   \n",
       "Clothing         1927413.84  12889036.16  10423278.80  10122298.56   \n",
       "Cosmetics         109619.36    752210.00    666336.08    608964.82   \n",
       "Food & Beverage    13582.31     91974.78     79616.29     79982.39   \n",
       "Shoes             993281.35   7676174.30   6598869.15   6445825.80   \n",
       "Souvenir           12375.15     67424.04     57711.60     60397.77   \n",
       "Technology       1129800.00   6067950.00   5728800.00   5451600.00   \n",
       "Toys               60426.24    473589.76    387824.64    352271.36   \n",
       "\n",
       "age range             50-69       60-69       70-89          NaN  \n",
       "category                                                          \n",
       "Books              71159.55    72098.85    50691.90    378795.45  \n",
       "Clothing         9511035.60  9351993.20  7117297.44  52654437.44  \n",
       "Cosmetics         540005.46   568630.10   387977.72   3159119.36  \n",
       "Food & Beverage    67372.86    70662.53    49585.63    396758.26  \n",
       "Shoes            5523364.51  5234082.57  4214993.91  29866859.88  \n",
       "Souvenir           50333.43    47764.56    34955.40    304862.70  \n",
       "Technology       4046700.00  4856250.00  3276000.00  27305250.00  \n",
       "Toys              318474.24   325427.20   258012.16   1804400.64  "
      ]
     },
     "execution_count": 17,
     "metadata": {},
     "output_type": "execute_result"
    }
   ],
   "source": [
    "agerange = []\n",
    "for v in customers['age']:\n",
    "    if v >= 10 and v < 20:\n",
    "        agerange.append('10-19')\n",
    "    elif v >= 21 and v < 30:\n",
    "        agerange.append('20-29')\n",
    "    elif v >= 31 and v < 40:\n",
    "        agerange.append('30-39')\n",
    "    elif v >= 41 and v < 50:\n",
    "        agerange.append('40-49')\n",
    "    elif v >= 51 and v < 60:\n",
    "        agerange.append('50-69')\n",
    "    elif v >= 61 and v < 70:\n",
    "        agerange.append('60-69')\n",
    "    elif v >= 71 and v < 80:\n",
    "        agerange.append('70-89')\n",
    "    elif v >= 81 and v < 90:\n",
    "        agerange.append('20-29')\n",
    "    elif v >= 91 and v < 100:\n",
    "        agerange.append('90-99')\n",
    "    else:\n",
    "        agerange.append('NaN')\n",
    "\n",
    "customers['age range'] = agerange\n",
    "merged = invoice.merge(customers, how='inner', left_on='customer_id',right_on = 'id')\n",
    "pd.pivot_table(merged, values='Sales', index= 'category', columns = ['age range'], aggfunc=np.sum)"
   ]
  }
 ],
 "metadata": {
  "kernelspec": {
   "display_name": "Python 3 (ipykernel)",
   "language": "python",
   "name": "python3"
  },
  "language_info": {
   "codemirror_mode": {
    "name": "ipython",
    "version": 3
   },
   "file_extension": ".py",
   "mimetype": "text/x-python",
   "name": "python",
   "nbconvert_exporter": "python",
   "pygments_lexer": "ipython3",
   "version": "3.10.9"
  }
 },
 "nbformat": 4,
 "nbformat_minor": 5
}
